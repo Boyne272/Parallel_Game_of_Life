{
 "cells": [
  {
   "cell_type": "code",
   "execution_count": 1,
   "metadata": {},
   "outputs": [],
   "source": [
    "import numpy as np"
   ]
  },
  {
   "cell_type": "code",
   "execution_count": 131,
   "metadata": {},
   "outputs": [],
   "source": [
    "# grid segmentation\n",
    "def find_grid(n_p, x, y):\n",
    "    \n",
    "    # default is the strip version for prime numbers\n",
    "    if x >= y:\n",
    "        n_x, n_y = n_p, 1\n",
    "    else: # stip along the shorter side\n",
    "        n_x, n_y = 1, n_p\n",
    "    comm_len = n_x * y + n_y * x\n",
    "    \n",
    "    for i in range(2, int(np.sqrt(n_p) + 2)):\n",
    "        if n_p % i == 0:\n",
    "            prime1 = i\n",
    "            prime2 = n_p / i\n",
    "            \n",
    "            # if these new dimensions would be better\n",
    "            if prime1 * y + prime2 * x < comm_len:\n",
    "                n_x, n_y = prime1, prime2\n",
    "                comm_len = n_x * y + n_y * x\n",
    "                \n",
    "            # check both ways around \n",
    "            if prime1 * x + prime2 * y < comm_len:\n",
    "                n_x, n_y = prime2, prime1\n",
    "                comm_len = n_x * y + n_y * x\n",
    "                \n",
    "    return n_x, n_y\n"
   ]
  },
  {
   "cell_type": "code",
   "execution_count": 161,
   "metadata": {},
   "outputs": [],
   "source": [
    "# find the dimensions given the id, widths and partitions\n",
    "def find_dims(n_x, n_y, my_id, x, y):\n",
    "    \n",
    "    # find id row and column\n",
    "    my_row = int(my_id / n_x)\n",
    "    my_col = my_id % n_x\n",
    "    \n",
    "    # periodic\n",
    "    conv = lambda row,col : (row%n_y) * n_y + (col%n_x)\n",
    "    \n",
    "    # non-periodic\n",
    "    def conv(row, col):\n",
    "        if row < 0 or row >= n_y or col < 0 or col >= n_x:\n",
    "            return -1\n",
    "        else:\n",
    "            return row * n_y + col\n",
    "    \n",
    "    neighbours = [conv(my_row-1, my_col),\n",
    "                  conv(my_row, my_col+1), \n",
    "                  conv(my_row+1, my_col), \n",
    "                  conv(my_row, my_col-1)]\n",
    "    \n",
    "    # find the width\n",
    "    my_x = int(x / n_x)\n",
    "    my_y = int(y / n_y)\n",
    "    \n",
    "    # correct for remainders\n",
    "    x_remainder = x % n_x\n",
    "    if x_remainder > my_row:\n",
    "        my_x += 1\n",
    "    y_remainder = y % n_y\n",
    "    if y_remainder > my_col:\n",
    "        my_y += 1\n",
    "    \n",
    "    return my_x, my_y, neighbours\n",
    "    "
   ]
  },
  {
   "cell_type": "code",
   "execution_count": 168,
   "metadata": {},
   "outputs": [
    {
     "data": {
      "text/plain": [
       "3"
      ]
     },
     "metadata": {},
     "output_type": "display_data"
    },
    {
     "data": {
      "text/plain": [
       "3.0"
      ]
     },
     "metadata": {},
     "output_type": "display_data"
    },
    {
     "data": {
      "text/plain": [
       "(30, 30, [5.0, -1, -1, 7.0])"
      ]
     },
     "execution_count": 168,
     "metadata": {},
     "output_type": "execute_result"
    }
   ],
   "source": [
    "# testing the above\n",
    "n_p, x, y = 9, 91, 91\n",
    "nx, ny = find_grid(n_p, x, y)\n",
    "display(nx, ny)\n",
    "find_dims(nx, ny, 8, x, y)"
   ]
  },
  {
   "cell_type": "code",
   "execution_count": 61,
   "metadata": {},
   "outputs": [],
   "source": [
    "# to test if x is in range without an if statment!\n",
    "def test(x, a, b):\n",
    "    r = (b - a) / 2 \n",
    "    #print (x)\n",
    "    x = x - (a + r)\n",
    "    #print (x)\n",
    "    x = x / r\n",
    "    #print(x)\n",
    "    x = bool(int(x))\n",
    "    #print (x)\n",
    "    return not x\n",
    "\n",
    "# if a < x < b; requieres b > a > 0;\n",
    "def compact(x, a, b):\n",
    "    return not int((2*x - a - b) / (b-a))"
   ]
  },
  {
   "cell_type": "code",
   "execution_count": 70,
   "metadata": {},
   "outputs": [
    {
     "name": "stdout",
     "output_type": "stream",
     "text": [
      "306 ns ± 20.2 ns per loop (mean ± std. dev. of 7 runs, 1000000 loops each)\n"
     ]
    }
   ],
   "source": [
    "%timeit compact(5, 2, 20)"
   ]
  },
  {
   "cell_type": "code",
   "execution_count": 71,
   "metadata": {},
   "outputs": [
    {
     "name": "stdout",
     "output_type": "stream",
     "text": [
      "43.8 ns ± 0.713 ns per loop (mean ± std. dev. of 7 runs, 10000000 loops each)\n"
     ]
    }
   ],
   "source": [
    "%timeit if (2 < 5 < 20): pass"
   ]
  },
  {
   "cell_type": "code",
   "execution_count": 78,
   "metadata": {},
   "outputs": [],
   "source": [
    "test = np.arange(100).reshape(10,10)\n",
    "np.savetxt(\"test.csv\", test, delimiter=',')"
   ]
  },
  {
   "cell_type": "code",
   "execution_count": 80,
   "metadata": {},
   "outputs": [
    {
     "data": {
      "text/plain": [
       "array([[ 0.,  1.,  2.,  3.,  4.,  5.,  6.,  7.,  8.,  9.],\n",
       "       [10., 11., 12., 13., 14., 15., 16., 17., 18., 19.],\n",
       "       [20., 21., 22., 23., 24., 25., 26., 27., 28., 29.],\n",
       "       [30., 31., 32., 33., 34., 35., 36., 37., 38., 39.],\n",
       "       [40., 41., 42., 43., 44., 45., 46., 47., 48., 49.],\n",
       "       [50., 51., 52., 53., 54., 55., 56., 57., 58., 59.],\n",
       "       [60., 61., 62., 63., 64., 65., 66., 67., 68., 69.],\n",
       "       [70., 71., 72., 73., 74., 75., 76., 77., 78., 79.],\n",
       "       [80., 81., 82., 83., 84., 85., 86., 87., 88., 89.],\n",
       "       [90., 91., 92., 93., 94., 95., 96., 97., 98., 99.]])"
      ]
     },
     "execution_count": 80,
     "metadata": {},
     "output_type": "execute_result"
    }
   ],
   "source": [
    "np.loadtxt(\"test.csv\", delimiter=\",\")"
   ]
  }
 ],
 "metadata": {
  "kernelspec": {
   "display_name": "Python 3",
   "language": "python",
   "name": "python3"
  },
  "language_info": {
   "codemirror_mode": {
    "name": "ipython",
    "version": 3
   },
   "file_extension": ".py",
   "mimetype": "text/x-python",
   "name": "python",
   "nbconvert_exporter": "python",
   "pygments_lexer": "ipython3",
   "version": "3.6.5"
  }
 },
 "nbformat": 4,
 "nbformat_minor": 2
}
