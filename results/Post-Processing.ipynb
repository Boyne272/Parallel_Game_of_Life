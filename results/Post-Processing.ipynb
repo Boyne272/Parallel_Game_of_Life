{
 "cells": [
  {
   "cell_type": "code",
   "execution_count": 2,
   "metadata": {},
   "outputs": [],
   "source": [
    "import os\n",
    "import numpy as np\n",
    "import pandas as pd\n",
    "import matplotlib.pyplot as plt\n",
    "import matplotlib.animation as an\n",
    "from IPython.display import display, HTML"
   ]
  },
  {
   "cell_type": "code",
   "execution_count": 3,
   "metadata": {},
   "outputs": [],
   "source": [
    "# function to compile a single iteration\n",
    "def compile_iteration(i, px, py, direct):\n",
    "    rows = []\n",
    "    \n",
    "    for r in range(0, py):\n",
    "        filename = direct + str(i) + \"-\" + str(r * py) + \".csv\"\n",
    "        rows.append(np.loadtxt(filename, dtype=int, delimiter=','))\n",
    "        for c in range(1, px):\n",
    "            index = r * py + c\n",
    "            filename = direct + str(i) + \"-\" + str(index) + \".csv\"\n",
    "            tmp = np.loadtxt(filename, dtype=int, delimiter=',')\n",
    "            rows[r] = np.hstack((rows[r], tmp))\n",
    "\n",
    "    output = np.vstack(rows)\n",
    "    output = output.astype(int)\n",
    "    np.savetxt(direct + str(i) + \"-all.csv\", output, delimiter=',')          \n",
    "    return True"
   ]
  },
  {
   "cell_type": "code",
   "execution_count": 6,
   "metadata": {},
   "outputs": [
    {
     "name": "stdout",
     "output_type": "stream",
     "text": [
      "2 2\n",
      "['0-0.csv', '0-1.csv', '0-2.csv', '0-3.csv', '0-all.csv', '1-0.csv', '1-1.csv', '1-2.csv', '1-3.csv', '1-all.csv', '10-0.csv', '10-1.csv', '10-2.csv', '10-3.csv', '10-all.csv', '100-0.csv', '100-1.csv', '100-2.csv', '100-3.csv', '100-all.csv', '11-0.csv', '11-1.csv', '11-2.csv', '11-3.csv', '11-all.csv', '12-0.csv', '12-1.csv', '12-2.csv', '12-3.csv', '12-all.csv', '13-0.csv', '13-1.csv', '13-2.csv', '13-3.csv', '13-all.csv', '14-0.csv', '14-1.csv', '14-2.csv', '14-3.csv', '14-all.csv', '15-0.csv', '15-1.csv', '15-2.csv', '15-3.csv', '15-all.csv', '16-0.csv', '16-1.csv', '16-2.csv', '16-3.csv', '16-all.csv', '17-0.csv', '17-1.csv', '17-2.csv', '17-3.csv', '17-all.csv', '18-0.csv', '18-1.csv', '18-2.csv', '18-3.csv', '18-all.csv', '19-0.csv', '19-1.csv', '19-2.csv', '19-3.csv', '19-all.csv', '2-0.csv', '2-1.csv', '2-2.csv', '2-3.csv', '2-all.csv', '20-0.csv', '20-1.csv', '20-2.csv', '20-3.csv', '20-all.csv', '21-0.csv', '21-1.csv', '21-2.csv', '21-3.csv', '21-all.csv', '22-0.csv', '22-1.csv', '22-2.csv', '22-3.csv', '22-all.csv', '23-0.csv', '23-1.csv', '23-2.csv', '23-3.csv', '23-all.csv', '24-0.csv', '24-1.csv', '24-2.csv', '24-3.csv', '24-all.csv', '25-0.csv', '25-1.csv', '25-2.csv', '25-3.csv', '25-all.csv', '26-0.csv', '26-1.csv', '26-2.csv', '26-3.csv', '26-all.csv', '27-0.csv', '27-1.csv', '27-2.csv', '27-3.csv', '27-all.csv', '28-0.csv', '28-1.csv', '28-2.csv', '28-3.csv', '28-all.csv', '29-0.csv', '29-1.csv', '29-2.csv', '29-3.csv', '29-all.csv', '3-0.csv', '3-1.csv', '3-2.csv', '3-3.csv', '3-all.csv', '30-0.csv', '30-1.csv', '30-2.csv', '30-3.csv', '30-all.csv', '31-0.csv', '31-1.csv', '31-2.csv', '31-3.csv', '31-all.csv', '32-0.csv', '32-1.csv', '32-2.csv', '32-3.csv', '32-all.csv', '33-0.csv', '33-1.csv', '33-2.csv', '33-3.csv', '33-all.csv', '34-0.csv', '34-1.csv', '34-2.csv', '34-3.csv', '34-all.csv', '35-0.csv', '35-1.csv', '35-2.csv', '35-3.csv', '35-all.csv', '36-0.csv', '36-1.csv', '36-2.csv', '36-3.csv', '36-all.csv', '37-0.csv', '37-1.csv', '37-2.csv', '37-3.csv', '37-all.csv', '38-0.csv', '38-1.csv', '38-2.csv', '38-3.csv', '38-all.csv', '39-0.csv', '39-1.csv', '39-2.csv', '39-3.csv', '39-all.csv', '4-0.csv', '4-1.csv', '4-2.csv', '4-3.csv', '4-all.csv', '40-0.csv', '40-1.csv', '40-2.csv', '40-3.csv', '40-all.csv', '41-0.csv', '41-1.csv', '41-2.csv', '41-3.csv', '41-all.csv', '42-0.csv', '42-1.csv', '42-2.csv', '42-3.csv', '42-all.csv', '43-0.csv', '43-1.csv', '43-2.csv', '43-3.csv', '43-all.csv', '44-0.csv', '44-1.csv', '44-2.csv', '44-3.csv', '44-all.csv', '45-0.csv', '45-1.csv', '45-2.csv', '45-3.csv', '45-all.csv', '46-0.csv', '46-1.csv', '46-2.csv', '46-3.csv', '46-all.csv', '47-0.csv', '47-1.csv', '47-2.csv', '47-3.csv', '47-all.csv', '48-0.csv', '48-1.csv', '48-2.csv', '48-3.csv', '48-all.csv', '49-0.csv', '49-1.csv', '49-2.csv', '49-3.csv', '49-all.csv', '5-0.csv', '5-1.csv', '5-2.csv', '5-3.csv', '5-all.csv', '50-0.csv', '50-1.csv', '50-2.csv', '50-3.csv', '50-all.csv', '51-0.csv', '51-1.csv', '51-2.csv', '51-3.csv', '51-all.csv', '52-0.csv', '52-1.csv', '52-2.csv', '52-3.csv', '52-all.csv', '53-0.csv', '53-1.csv', '53-2.csv', '53-3.csv', '53-all.csv', '54-0.csv', '54-1.csv', '54-2.csv', '54-3.csv', '54-all.csv', '55-0.csv', '55-1.csv', '55-2.csv', '55-3.csv', '55-all.csv', '56-0.csv', '56-1.csv', '56-2.csv', '56-3.csv', '56-all.csv', '57-0.csv', '57-1.csv', '57-2.csv', '57-3.csv', '57-all.csv', '58-0.csv', '58-1.csv', '58-2.csv', '58-3.csv', '58-all.csv', '59-0.csv', '59-1.csv', '59-2.csv', '59-3.csv', '59-all.csv', '6-0.csv', '6-1.csv', '6-2.csv', '6-3.csv', '6-all.csv', '60-0.csv', '60-1.csv', '60-2.csv', '60-3.csv', '60-all.csv', '61-0.csv', '61-1.csv', '61-2.csv', '61-3.csv', '61-all.csv', '62-0.csv', '62-1.csv', '62-2.csv', '62-3.csv', '62-all.csv', '63-0.csv', '63-1.csv', '63-2.csv', '63-3.csv', '63-all.csv', '64-0.csv', '64-1.csv', '64-2.csv', '64-3.csv', '64-all.csv', '65-0.csv', '65-1.csv', '65-2.csv', '65-3.csv', '65-all.csv', '66-0.csv', '66-1.csv', '66-2.csv', '66-3.csv', '66-all.csv', '67-0.csv', '67-1.csv', '67-2.csv', '67-3.csv', '67-all.csv', '68-0.csv', '68-1.csv', '68-2.csv', '68-3.csv', '68-all.csv', '69-0.csv', '69-1.csv', '69-2.csv', '69-3.csv', '69-all.csv', '7-0.csv', '7-1.csv', '7-2.csv', '7-3.csv', '7-all.csv', '70-0.csv', '70-1.csv', '70-2.csv', '70-3.csv', '70-all.csv', '71-0.csv', '71-1.csv', '71-2.csv', '71-3.csv', '71-all.csv', '72-0.csv', '72-1.csv', '72-2.csv', '72-3.csv', '72-all.csv', '73-0.csv', '73-1.csv', '73-2.csv', '73-3.csv', '73-all.csv', '74-0.csv', '74-1.csv', '74-2.csv', '74-3.csv', '74-all.csv', '75-0.csv', '75-1.csv', '75-2.csv', '75-3.csv', '75-all.csv', '76-0.csv', '76-1.csv', '76-2.csv', '76-3.csv', '76-all.csv', '77-0.csv', '77-1.csv', '77-2.csv', '77-3.csv', '77-all.csv', '78-0.csv', '78-1.csv', '78-2.csv', '78-3.csv', '78-all.csv', '79-0.csv', '79-1.csv', '79-2.csv', '79-3.csv', '79-all.csv', '8-0.csv', '8-1.csv', '8-2.csv', '8-3.csv', '8-all.csv', '80-0.csv', '80-1.csv', '80-2.csv', '80-3.csv', '80-all.csv', '81-0.csv', '81-1.csv', '81-2.csv', '81-3.csv', '81-all.csv', '82-0.csv', '82-1.csv', '82-2.csv', '82-3.csv', '82-all.csv', '83-0.csv', '83-1.csv', '83-2.csv', '83-3.csv', '83-all.csv', '84-0.csv', '84-1.csv', '84-2.csv', '84-3.csv', '84-all.csv', '85-0.csv', '85-1.csv', '85-2.csv', '85-3.csv', '85-all.csv', '86-0.csv', '86-1.csv', '86-2.csv', '86-3.csv', '86-all.csv', '87-0.csv', '87-1.csv', '87-2.csv', '87-3.csv', '87-all.csv', '88-0.csv', '88-1.csv', '88-2.csv', '88-3.csv', '88-all.csv', '89-0.csv', '89-1.csv', '89-2.csv', '89-3.csv', '89-all.csv', '9-0.csv', '9-1.csv', '9-2.csv', '9-3.csv', '9-all.csv', '90-0.csv', '90-1.csv', '90-2.csv', '90-3.csv', '90-all.csv', '91-0.csv', '91-1.csv', '91-2.csv', '91-3.csv', '91-all.csv', '92-0.csv', '92-1.csv', '92-2.csv', '92-3.csv', '92-all.csv', '93-0.csv', '93-1.csv', '93-2.csv', '93-3.csv', '93-all.csv', '94-0.csv', '94-1.csv', '94-2.csv', '94-3.csv', '94-all.csv', '95-0.csv', '95-1.csv', '95-2.csv', '95-3.csv', '95-all.csv', '96-0.csv', '96-1.csv', '96-2.csv', '96-3.csv', '96-all.csv', '97-0.csv', '97-1.csv', '97-2.csv', '97-3.csv', '97-all.csv', '98-0.csv', '98-1.csv', '98-2.csv', '98-3.csv', '98-all.csv', '99-0.csv', '99-1.csv', '99-2.csv', '99-3.csv', '99-all.csv', '_config.txt']\n"
     ]
    }
   ],
   "source": [
    "# what to load\n",
    "directory = \"../vs_gol/Debug/test_periodic/\"\n",
    "iter_start = 0\n",
    "iter_end = 100\n",
    "\n",
    "# check directory is real\n",
    "assert os.path.isdir(directory), \"Given directory does not exist\"\n",
    "\n",
    "# load the config file\n",
    "f_config = open(directory + \"_config.txt\")\n",
    "t_config = f_config.read()\n",
    "f_config.close()\n",
    "\n",
    "# find the grid dimensions\n",
    "tmp = t_config.split(\"Partitions\")[1]\n",
    "tmp = tmp.split(\"\\n\")[0]\n",
    "exec(\"px, py =\" + tmp)\n",
    "print(px, py)\n",
    "\n",
    "# create the complied arrays\n",
    "for it in range(iter_start, iter_end + 1):\n",
    "    compile_iteration(it, px, py, directory)\n",
    "\n",
    "# check they were made\n",
    "print(os.listdir(directory))"
   ]
  },
  {
   "cell_type": "code",
   "execution_count": null,
   "metadata": {},
   "outputs": [],
   "source": [
    "# # find all files in the directory\n",
    "# filenames = [f for f in os.listdir(directory) if f.endswith(\".csv\")]\n",
    "# iterations = np.unique([int(s.split(\"-\")[0]) for s in filenames])\n",
    "# display(iterations)\n",
    "# display(files)"
   ]
  }
 ],
 "metadata": {
  "kernelspec": {
   "display_name": "Python 3",
   "language": "python",
   "name": "python3"
  },
  "language_info": {
   "codemirror_mode": {
    "name": "ipython",
    "version": 3
   },
   "file_extension": ".py",
   "mimetype": "text/x-python",
   "name": "python",
   "nbconvert_exporter": "python",
   "pygments_lexer": "ipython3",
   "version": "3.6.5"
  }
 },
 "nbformat": 4,
 "nbformat_minor": 2
}
