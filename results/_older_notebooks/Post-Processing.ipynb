{
 "cells": [
  {
   "cell_type": "code",
   "execution_count": 1,
   "metadata": {},
   "outputs": [],
   "source": [
    "import os\n",
    "import sys\n",
    "import numpy as np\n",
    "import pandas as pd\n",
    "import matplotlib.pyplot as plt\n",
    "import matplotlib.animation as an\n",
    "from IPython.display import display, HTML"
   ]
  },
  {
   "cell_type": "code",
   "execution_count": 2,
   "metadata": {},
   "outputs": [],
   "source": [
    "# function to compile a single iteration\n",
    "def compile_iteration(i, py, px, direct):\n",
    "    \n",
    "    # load in all the arrays\n",
    "    arrays = [[] for row in range(0, py)] \n",
    "    for row in range(0, py):\n",
    "        for col in range(0, px):\n",
    "            index = row * px + col\n",
    "            filename = direct + str(i) + \"-\" + str(index) + \".csv\"\n",
    "            arrays[row].append(np.loadtxt(filename, dtype=int, delimiter=','))\n",
    "\n",
    "    # stack them into one\n",
    "    output = np.vstack([np.hstack(row) for row in arrays])\n",
    "    output = output.astype(int)\n",
    "    \n",
    "    # save the stacked array\n",
    "    name = direct + str(i) + \"-all.csv\"\n",
    "    np.savetxt(name, output, delimiter=',')\n",
    "    print(\"created \" + name)"
   ]
  },
  {
   "cell_type": "code",
   "execution_count": 3,
   "metadata": {},
   "outputs": [],
   "source": [
    "def read_config(directory):\n",
    "     # check directory is real\n",
    "    assert os.path.isdir(directory), \"Given directory does not exist\"\n",
    "\n",
    "    # load the config file\n",
    "    f_config = open(directory + \"_config.txt\")\n",
    "    t_config = f_config.read()\n",
    "    f_config.close()\n",
    "    \n",
    "    # find the grid dimensions\n",
    "    tmp = t_config.split(\"Partitions\")[1]\n",
    "    tmp = tmp.split(\")\")[0]\n",
    "    tmp = tmp.split(\"(\")[1]\n",
    "    py = int(tmp.split(\",\")[0])\n",
    "    px = int(tmp.split(\",\")[1])\n",
    "    print(\"Dimensions: \", px, py)\n",
    "    \n",
    "    # find the number of iterations\n",
    "    tmp = t_config.split(\"Iterations\")[1]\n",
    "    tmp = tmp.split(\"\\n\")[0]\n",
    "    iterations = int(tmp)\n",
    "    \n",
    "    return px, py, iterations"
   ]
  },
  {
   "cell_type": "code",
   "execution_count": 4,
   "metadata": {},
   "outputs": [],
   "source": [
    "def compile_directory(directory):\n",
    "    \n",
    "    px, py, iterations = read_config(directory)\n",
    "\n",
    "    # create the complied arrays\n",
    "    for it in range(0, iterations + 1):\n",
    "        compile_iteration(it, py, px, directory)\n",
    "        "
   ]
  },
  {
   "cell_type": "code",
   "execution_count": 6,
   "metadata": {
    "scrolled": false
   },
   "outputs": [
    {
     "name": "stdout",
     "output_type": "stream",
     "text": [
      "Dimensions:  2 2\n",
      "created ../vs_gol/Debug/test_corns/0-all.csv\n",
      "created ../vs_gol/Debug/test_corns/1-all.csv\n",
      "created ../vs_gol/Debug/test_corns/2-all.csv\n"
     ]
    }
   ],
   "source": [
    "# if directory is passed use it\n",
    "# if len(sys.argv) == 1:\n",
    "#     directory = string(sys.argv[0])\n",
    "# else\n",
    "#     directory = os.getcwd()\n",
    "\n",
    "directory = \"../vs_gol/Debug/test_corns/\"\n",
    "compile_directory(directory)\n"
   ]
  }
 ],
 "metadata": {
  "kernelspec": {
   "display_name": "Python 3",
   "language": "python",
   "name": "python3"
  },
  "language_info": {
   "codemirror_mode": {
    "name": "ipython",
    "version": 3
   },
   "file_extension": ".py",
   "mimetype": "text/x-python",
   "name": "python",
   "nbconvert_exporter": "python",
   "pygments_lexer": "ipython3",
   "version": "3.6.5"
  }
 },
 "nbformat": 4,
 "nbformat_minor": 2
}
