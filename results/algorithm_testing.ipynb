{
 "cells": [
  {
   "cell_type": "code",
   "execution_count": 1,
   "metadata": {},
   "outputs": [],
   "source": [
    "import numpy as np"
   ]
  },
  {
   "cell_type": "code",
   "execution_count": 38,
   "metadata": {},
   "outputs": [],
   "source": [
    "# to test if x is in range without an if statment!\n",
    "def test(x, a, b):\n",
    "    r = b - a \n",
    "    print (x)\n",
    "    x = x - a\n",
    "    print (x)\n",
    "    x = x / (b-a+1)\n",
    "    print(x)\n",
    "    x = bool(int(x))\n",
    "    print (x)\n",
    "    return not x"
   ]
  },
  {
   "cell_type": "code",
   "execution_count": 39,
   "metadata": {},
   "outputs": [
    {
     "name": "stdout",
     "output_type": "stream",
     "text": [
      "0\n",
      "-3\n",
      "-0.375\n",
      "False\n",
      "1\n",
      "-2\n",
      "-0.25\n",
      "False\n",
      "2\n",
      "-1\n",
      "-0.125\n",
      "False\n",
      "3\n",
      "0\n",
      "0.0\n",
      "False\n",
      "4\n",
      "1\n",
      "0.125\n",
      "False\n",
      "5\n",
      "2\n",
      "0.25\n",
      "False\n",
      "6\n",
      "3\n",
      "0.375\n",
      "False\n",
      "7\n",
      "4\n",
      "0.5\n",
      "False\n",
      "8\n",
      "5\n",
      "0.625\n",
      "False\n",
      "9\n",
      "6\n",
      "0.75\n",
      "False\n",
      "[True, True, True, True, True, True, True, True, True, True]\n"
     ]
    }
   ],
   "source": [
    "l = [test(i, 3, 10) for i in range(10)]\n",
    "print(l)"
   ]
  },
  {
   "cell_type": "code",
   "execution_count": 41,
   "metadata": {},
   "outputs": [
    {
     "data": {
      "text/plain": [
       "0"
      ]
     },
     "execution_count": 41,
     "metadata": {},
     "output_type": "execute_result"
    }
   ],
   "source": [
    "int(-0.2)"
   ]
  }
 ],
 "metadata": {
  "kernelspec": {
   "display_name": "Python 3",
   "language": "python",
   "name": "python3"
  },
  "language_info": {
   "codemirror_mode": {
    "name": "ipython",
    "version": 3
   },
   "file_extension": ".py",
   "mimetype": "text/x-python",
   "name": "python",
   "nbconvert_exporter": "python",
   "pygments_lexer": "ipython3",
   "version": "3.6.5"
  }
 },
 "nbformat": 4,
 "nbformat_minor": 2
}
