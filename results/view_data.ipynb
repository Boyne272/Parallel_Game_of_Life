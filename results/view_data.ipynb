{
 "cells": [
  {
   "cell_type": "code",
   "execution_count": 48,
   "metadata": {},
   "outputs": [],
   "source": [
    "import numpy as np\n",
    "import matplotlib.pyplot as plt\n",
    "import matplotlib.animation as an\n",
    "from IPython.display import display, HTML"
   ]
  },
  {
   "cell_type": "code",
   "execution_count": 60,
   "metadata": {},
   "outputs": [
    {
     "data": {
      "text/plain": [
       "array([0, 1, 1, 1, 1, 1, 1, 1, 1, 1, 1, 1, 1, 1, 0, 1, 0, 1, 0, 0, 1, 1,\n",
       "       0, 0, 1, 0, 0, 1, 0, 0, 1, 1, 0, 0, 1, 0, 0, 0, 1, 0, 1, 0, 1, 0,\n",
       "       0, 0, 0, 0, 0, 1, 0, 0, 1, 1, 0, 0, 0, 1, 0, 1])"
      ]
     },
     "metadata": {},
     "output_type": "display_data"
    }
   ],
   "source": [
    "    # load the raw data\n",
    "raw_data = np.loadtxt(\"Mar-13-19-43-53-0.csv\", dtype=int, delimiter=',', skiprows=3)\n",
    "display(raw_data[1, :])"
   ]
  },
  {
   "cell_type": "code",
   "execution_count": 68,
   "metadata": {},
   "outputs": [
    {
     "data": {
      "text/plain": [
       "(50, 60)"
      ]
     },
     "metadata": {},
     "output_type": "display_data"
    },
    {
     "data": {
      "text/plain": [
       "array([[[1, 0, 0, ..., 0, 1, 0],\n",
       "        [0, 1, 1, ..., 1, 0, 1],\n",
       "        [0, 0, 1, ..., 1, 1, 0],\n",
       "        ...,\n",
       "        [1, 0, 0, ..., 0, 1, 1],\n",
       "        [1, 0, 0, ..., 0, 0, 1],\n",
       "        [0, 1, 1, ..., 0, 1, 1]],\n",
       "\n",
       "       [[0, 1, 1, ..., 1, 1, 0],\n",
       "        [0, 1, 1, ..., 0, 0, 1],\n",
       "        [1, 0, 0, ..., 0, 0, 0],\n",
       "        ...,\n",
       "        [1, 1, 1, ..., 0, 0, 0],\n",
       "        [1, 0, 0, ..., 0, 0, 0],\n",
       "        [0, 1, 1, ..., 1, 1, 1]],\n",
       "\n",
       "       [[0, 1, 1, ..., 0, 1, 0],\n",
       "        [1, 0, 1, ..., 0, 1, 0],\n",
       "        [1, 0, 0, ..., 0, 0, 0],\n",
       "        ...,\n",
       "        [0, 0, 0, ..., 1, 0, 0],\n",
       "        [1, 0, 0, ..., 0, 1, 0],\n",
       "        [0, 1, 1, ..., 1, 1, 0]],\n",
       "\n",
       "       ...,\n",
       "\n",
       "       [[0, 0, 0, ..., 0, 0, 0],\n",
       "        [0, 0, 0, ..., 0, 0, 0],\n",
       "        [0, 0, 0, ..., 0, 0, 0],\n",
       "        ...,\n",
       "        [0, 0, 0, ..., 0, 0, 0],\n",
       "        [0, 0, 0, ..., 0, 0, 0],\n",
       "        [0, 0, 0, ..., 0, 0, 0]],\n",
       "\n",
       "       [[0, 0, 0, ..., 0, 0, 0],\n",
       "        [0, 0, 0, ..., 0, 0, 0],\n",
       "        [0, 0, 0, ..., 0, 0, 0],\n",
       "        ...,\n",
       "        [0, 0, 0, ..., 0, 0, 0],\n",
       "        [0, 0, 0, ..., 0, 0, 0],\n",
       "        [0, 0, 0, ..., 0, 0, 0]],\n",
       "\n",
       "       [[0, 0, 0, ..., 0, 0, 0],\n",
       "        [0, 0, 0, ..., 0, 0, 0],\n",
       "        [0, 0, 0, ..., 0, 0, 0],\n",
       "        ...,\n",
       "        [0, 0, 0, ..., 0, 0, 0],\n",
       "        [0, 0, 0, ..., 0, 0, 0],\n",
       "        [0, 0, 0, ..., 0, 0, 0]]])"
      ]
     },
     "metadata": {},
     "output_type": "display_data"
    }
   ],
   "source": [
    "# convert to 3d array\n",
    "dim_y = 50\n",
    "iterations = 100\n",
    "slices = [raw_data[i*dim_y:(i+1)*dim_y] for i in range(iterations)]\n",
    "display(slices[0].shape)\n",
    "results = np.stack(slices)\n",
    "display(results)"
   ]
  },
  {
   "cell_type": "code",
   "execution_count": 70,
   "metadata": {},
   "outputs": [],
   "source": [
    "class animate_imshow():\n",
    "    def __init__(self, array, dt=1):\n",
    "        \"\"\"\n",
    "        Array is 3d with time on axis=0. Here I create the attributes and setup figure\"\n",
    "        \"\"\" \n",
    "        # setup data\n",
    "        self.arr = array\n",
    "        self.Nt = len(array)\n",
    "        self.dt = dt\n",
    "\n",
    "        # setup the figure\n",
    "        self.fig = plt.figure(figsize=(10, 10))\n",
    "        self.im = plt.imshow(array[0], animated=True, cmap='viridis')\n",
    "        self.ax = plt.gca()\n",
    "        self.text = self.ax.text(0.1, 0.1, 'Time: 0', color='w')\n",
    "\n",
    "    def animate(self, html=True, filename=\"test_2.csv\"):\n",
    "        self.ani = an.FuncAnimation(self.fig, self.update, frames=range(self.Nt),\n",
    "                                    interval=10, blit=True)\n",
    "        if html:\n",
    "            #plt.close('all')\n",
    "            string = self.ani.to_jshtml()\n",
    "            #HTML(string)\n",
    "        #if filename != \"\":\n",
    "            f = open(filename, 'w')\n",
    "            f.write(self.ani.to_jshtml())\n",
    "            \n",
    "\n",
    "    def update(self, f):\n",
    "        self.im.set_array(self.arr[f])\n",
    "        self.text.set_text('Time: %i' % f * self.dt)\n",
    "        return self.im, self.text"
   ]
  },
  {
   "cell_type": "code",
   "execution_count": 71,
   "metadata": {},
   "outputs": [
    {
     "data": {
      "image/png": "[encoded data removed]",
      "text/plain": [
       "<Figure size 720x720 with 1 Axes>"
      ]
     },
     "metadata": {},
     "output_type": "display_data"
    }
   ],
   "source": [
    "example = animate_imshow(results)\n",
    "example.animate(filename=\"test.html\")"
   ]
  },
  {
   "cell_type": "code",
   "execution_count": null,
   "metadata": {},
   "outputs": [],
   "source": []
  }
 ],
 "metadata": {
  "kernelspec": {
   "display_name": "Python 3",
   "language": "python",
   "name": "python3"
  },
  "language_info": {
   "codemirror_mode": {
    "name": "ipython",
    "version": 3
   },
   "file_extension": ".py",
   "mimetype": "text/x-python",
   "name": "python",
   "nbconvert_exporter": "python",
   "pygments_lexer": "ipython3",
   "version": "3.6.5"
  }
 },
 "nbformat": 4,
 "nbformat_minor": 2
}
